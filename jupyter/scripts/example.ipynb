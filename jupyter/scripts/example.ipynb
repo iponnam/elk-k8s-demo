{
 "cells": [
  {
   "cell_type": "markdown",
   "metadata": {},
   "source": [
    "## Using Jupyter with Elastic Cloud cluster\n",
    "\n",
    "### Install elasticsearch Py client"
   ]
  },
  {
   "cell_type": "code",
   "execution_count": null,
   "metadata": {
    "scrolled": true
   },
   "outputs": [],
   "source": [
    "!pip install elasticsearch\n",
    "!pip install pandasticsearch"
   ]
  },
  {
   "cell_type": "markdown",
   "metadata": {},
   "source": [
    "### Env variables\n",
    "* ELASTIC_CLOUD_AUTH - cloud.auth\n",
    "* ELASTIC_CLOUD_ID   - cloud.id"
   ]
  },
  {
   "cell_type": "code",
   "execution_count": null,
   "metadata": {},
   "outputs": [],
   "source": [
    "import os\n",
    "\n",
    "\n",
    "cloud_id = os.environ['ELASTIC_CLOUD_ID']\n",
    "cloud_auth = os.environ['ELASTIC_CLOUD_AUTH']"
   ]
  },
  {
   "cell_type": "markdown",
   "metadata": {},
   "source": [
    "### Python client init with pandas"
   ]
  },
  {
   "cell_type": "code",
   "execution_count": null,
   "metadata": {},
   "outputs": [],
   "source": [
    "from elasticsearch import Elasticsearch\n",
    "from pandasticsearch import Select\n",
    "\n",
    "\n",
    "# Connection to ElasticSearch\n",
    "es = Elasticsearch(cloud_id=cloud_id, http_auth=cloud_auth)\n",
    "\n",
    "# Retrieving all documents in index (no query given)\n",
    "documents = es.search(index='filebeat-*', body={})\n",
    "\n",
    "# Convert the result to Pandas Dataframe\n",
    "pandas_df = Select.from_dict(documents).to_pandas()"
   ]
  },
  {
   "cell_type": "code",
   "execution_count": null,
   "metadata": {},
   "outputs": [],
   "source": [
    "pandas_df"
   ]
  }
 ],
 "metadata": {
  "kernelspec": {
   "display_name": "Python 3",
   "language": "python",
   "name": "python3"
  },
  "language_info": {
   "codemirror_mode": {
    "name": "ipython",
    "version": 3
   },
   "file_extension": ".py",
   "mimetype": "text/x-python",
   "name": "python",
   "nbconvert_exporter": "python",
   "pygments_lexer": "ipython3",
   "version": "3.7.3"
  }
 },
 "nbformat": 4,
 "nbformat_minor": 2
}
